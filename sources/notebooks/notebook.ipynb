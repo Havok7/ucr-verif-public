{
 "cells": [
  {
   "cell_type": "code",
   "execution_count": 5,
   "id": "ef4541f8",
   "metadata": {},
   "outputs": [
    {
     "name": "stdout",
     "output_type": "stream",
     "text": [
      "\r\n",
      "if [ \"$1\" ]; then\r\n",
      "    echo Setting $1\r\n",
      "    if [ -d \"/home/developer/code/$1\" ]; then\r\n",
      "        export PS1=\"\\e[1;36m[$1]\\e[0m \\w\\a $ \"\r\n",
      "        export CODE=/home/developer/code\r\n",
      "        export PROJ=/home/developer/code/$1\r\n",
      "        export TESTSIM=/home/developer/test-sim\r\n",
      "        export COMMON=/home/developer/code/common\r\n",
      "        alias make='make -f $PROJ/utils/Makefile'\r\n",
      "        alias ls='ls -lrpt'\r\n",
      "    else\r\n",
      "        echo Error: Project $1 not found\r\n",
      "    fi\r\n",
      "else\r\n",
      "    echo Error: command-line no project as argument. Example: source env.sh proj\r\n",
      "fi\r\n"
     ]
    }
   ],
   "source": [
    "!cat env.sh"
   ]
  },
  {
   "cell_type": "code",
   "execution_count": 21,
   "id": "e0193fd1",
   "metadata": {},
   "outputs": [
    {
     "name": "stdout",
     "output_type": "stream",
     "text": [
      "env: CODE=/home/developer/code\n",
      "env: PROJ=/home/developer/code/counter\n",
      "env: TESTSIM=/home/developer/test-sim\n",
      "env: COMMON=/home/developer/code/common\n"
     ]
    }
   ],
   "source": [
    "%env CODE=/home/developer/code\n",
    "%env PROJ=/home/developer/code/counter\n",
    "%env TESTSIM=/home/developer/test-sim\n",
    "%env COMMON=/home/developer/code/common\n",
    "%alias imake='make -f $PROJ/utils/Makefile'"
   ]
  },
  {
   "cell_type": "code",
   "execution_count": 24,
   "id": "f4a43e65",
   "metadata": {
    "scrolled": false
   },
   "outputs": [
    {
     "name": "stdout",
     "output_type": "stream",
     "text": [
      "\n",
      "\u001b[1;36m--- Simulation\u001b[0m\n",
      "xsim tb --stats -tclbatch /home/developer/code/common/utils/xsim.tcl \n",
      "\n",
      "****** xsim v2020.3 (64-bit)\n",
      "  **** SW Build 3173277 on Wed Apr  7 05:07:21 MDT 2021\n",
      "  **** IP Build 3174024 on Wed Apr  7 23:42:35 MDT 2021\n",
      "    ** Copyright 1986-2021 Xilinx, Inc. All Rights Reserved.\n",
      "\n",
      "source xsim.dir/tb/xsim_script.tcl\n",
      "# xsim {tb} -autoloadwcfg -tclbatch {/home/developer/code/common/utils/xsim.tcl} -stats\n",
      "Vivado Simulator v2020.3.0\n",
      "Time resolution is 1 ps\n",
      "source /home/developer/code/common/utils/xsim.tcl\n",
      "## log_wave -recursive *\n",
      "## run all\n",
      "Starting simulation\n",
      "$finish called at time : 2020 ns : File \"/home/developer/code/counter/dv/tb.v\" Line 34\n",
      "## exit\n",
      "INFO: Simulation Memory Usage: 115572 KB (Peak: 172844 KB)\n",
      "INFO: Simulation CPU Usage: 10 ms\n",
      "INFO: [Common 17-206] Exiting xsim at Sun Feb  6 01:31:12 2022...\n",
      "python3 /home/developer/code/common/utils/test_status.py\n",
      "Test: \u001b[92mPASS\u001b[0m\n"
     ]
    }
   ],
   "source": [
    "!make -f /home/developer/code/counter/utils/Makefile"
   ]
  }
 ],
 "metadata": {
  "kernelspec": {
   "display_name": "Python 3 (ipykernel)",
   "language": "python",
   "name": "python3"
  },
  "language_info": {
   "codemirror_mode": {
    "name": "ipython",
    "version": 3
   },
   "file_extension": ".py",
   "mimetype": "text/x-python",
   "name": "python",
   "nbconvert_exporter": "python",
   "pygments_lexer": "ipython3",
   "version": "3.8.10"
  }
 },
 "nbformat": 4,
 "nbformat_minor": 5
}
